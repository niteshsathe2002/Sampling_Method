{
 "cells": [
  {
   "cell_type": "code",
   "execution_count": 1,
   "id": "4ed2afbd",
   "metadata": {},
   "outputs": [],
   "source": [
    "import numpy as np \n",
    "import scipy.stats as ss"
   ]
  },
  {
   "cell_type": "markdown",
   "id": "8014c8c9",
   "metadata": {},
   "source": [
    "**Q1** How large sample should be taken from a population of 2000 units so that sample estimate \n",
    "of population mean (y_bar) differs from its true value by a quantity less than 20 with probability 0.95? It is given that an estimate of population variance is 10,000.\n",
    "( i.e we have N=2000,d=20, 1-alpha=0.95, $ {S^2_y} $10,000)"
   ]
  },
  {
   "cell_type": "code",
   "execution_count": 7,
   "id": "f1bd356b",
   "metadata": {},
   "outputs": [],
   "source": [
    "N=2000 # population size\n",
    "d=20   \n",
    "alpha=1-0.95\n",
    "sy_2=10000 # population variance\n"
   ]
  },
  {
   "cell_type": "code",
   "execution_count": 8,
   "id": "c478fee5",
   "metadata": {},
   "outputs": [],
   "source": [
    "z_alpha=ss.norm.ppf(1-0.05/2)\n",
    "a=sy_2*(z_alpha**2)\n",
    "sample_size=a/(d**2+a/N)\n"
   ]
  },
  {
   "cell_type": "code",
   "execution_count": 6,
   "id": "1c0d060c",
   "metadata": {},
   "outputs": [
    {
     "name": "stdout",
     "output_type": "stream",
     "text": [
      "approximately the sample size= 92\n"
     ]
    }
   ],
   "source": [
    "print(\"approximately the sample size=\",round(sample_size))"
   ]
  },
  {
   "cell_type": "markdown",
   "id": "c4bb2e80",
   "metadata": {},
   "source": [
    "**Q2** Suppose it is required to estimate the average value (population mean) of output of a group \n",
    "of 5000 factories in a region so that the sample estimate lies within 10% of the true value \n",
    "with confidence coefficient of 95%. Determine the minimum sample size required. The \n",
    "population coefficient of variation is known to be 60%.\n",
    "    ( i.e we have N=5000,d=0.1*y_bar,1-alpha=0.95,CV=60%, $ \\frac{S^2_y}{y-bar} $\n",
    " =0.6)\n"
   ]
  },
  {
   "cell_type": "code",
   "execution_count": 17,
   "id": "e9c7a046",
   "metadata": {},
   "outputs": [],
   "source": [
    "N=5000\n",
    "# after simplification we got\n",
    "d=0.1\n",
    "sy=0.6\n",
    "alpha=0.95\n"
   ]
  },
  {
   "cell_type": "code",
   "execution_count": 18,
   "id": "b11e54eb",
   "metadata": {},
   "outputs": [],
   "source": [
    "z_alpha=ss.norm.ppf(1-0.05/2)\n",
    "a=(sy*z_alpha)**2\n",
    "sample_size=a/(d**2+a/N)"
   ]
  },
  {
   "cell_type": "code",
   "execution_count": 19,
   "id": "dff85986",
   "metadata": {},
   "outputs": [
    {
     "name": "stdout",
     "output_type": "stream",
     "text": [
      "approximately the sample size= 135\n"
     ]
    }
   ],
   "source": [
    "print(\"approximately the sample size=\",round(sample_size))"
   ]
  },
  {
   "cell_type": "markdown",
   "id": "79362a71",
   "metadata": {},
   "source": [
    "**Q3** Select a random sample of size 200 from Bernoulli ( p=0.67). Treat it as the result of the \n",
    "10th class here ‘1’ indicates student is passed and ‘0’ indicates student is failed. Now, based\n",
    "on this sample, estimate the population proportion."
   ]
  },
  {
   "cell_type": "code",
   "execution_count": 12,
   "id": "19ae95ec",
   "metadata": {},
   "outputs": [],
   "source": [
    "n=200\n",
    "p=0.67\n",
    "k=1\n",
    "sample=np.random.binomial(k,p,n)\n"
   ]
  },
  {
   "cell_type": "code",
   "execution_count": 13,
   "id": "9577104c",
   "metadata": {},
   "outputs": [
    {
     "name": "stdout",
     "output_type": "stream",
     "text": [
      "Estimated population proportion = 0.695\n"
     ]
    }
   ],
   "source": [
    "print(\"Estimated population proportion =\",(np.mean(sample)))"
   ]
  },
  {
   "cell_type": "markdown",
   "id": "5bd93dfe",
   "metadata": {},
   "source": [
    "**Q4**  The proportion of families having 2 or more children ( p) in a certain city is to be estimated.There are N= 10,000 families, a random sample of n = 200 families is selected, and we find that p= 0.55. Calculate 90% confidence interval for p."
   ]
  },
  {
   "cell_type": "code",
   "execution_count": 23,
   "id": "2cca59f7",
   "metadata": {},
   "outputs": [],
   "source": [
    "N=10000\n",
    "n=20\n",
    "p_hat=0.55\n",
    "alpha=1-0.90\n",
    "\n"
   ]
  },
  {
   "cell_type": "code",
   "execution_count": 24,
   "id": "7d07e070",
   "metadata": {},
   "outputs": [],
   "source": [
    "z_alpha=ss.norm.ppf(1-alpha/2)\n",
    "var_phat_hat=((N-n)/(N*(n-1)))*(p_hat*(1-p_hat))\n",
    "LL=p_hat-z_alpha*np.sqrt(var_phat_hat)\n",
    "UL=p_hat+z_alpha*np.sqrt(var_phat_hat)"
   ]
  },
  {
   "cell_type": "code",
   "execution_count": 25,
   "id": "5c1ba7d2",
   "metadata": {},
   "outputs": [
    {
     "name": "stdout",
     "output_type": "stream",
     "text": [
      "the 90% confidence interval= (0.3624559334759965, 0.7375440665240036)\n"
     ]
    }
   ],
   "source": [
    "print(\"the 90% confidence interval=\",(LL,UL))"
   ]
  },
  {
   "cell_type": "code",
   "execution_count": null,
   "id": "5132a818",
   "metadata": {},
   "outputs": [],
   "source": []
  }
 ],
 "metadata": {
  "kernelspec": {
   "display_name": "Python 3 (ipykernel)",
   "language": "python",
   "name": "python3"
  },
  "language_info": {
   "codemirror_mode": {
    "name": "ipython",
    "version": 3
   },
   "file_extension": ".py",
   "mimetype": "text/x-python",
   "name": "python",
   "nbconvert_exporter": "python",
   "pygments_lexer": "ipython3",
   "version": "3.10.10"
  }
 },
 "nbformat": 4,
 "nbformat_minor": 5
}
