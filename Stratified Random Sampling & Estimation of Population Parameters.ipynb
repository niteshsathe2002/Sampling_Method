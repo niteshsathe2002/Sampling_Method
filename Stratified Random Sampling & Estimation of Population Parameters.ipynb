{
 "cells": [
  {
   "cell_type": "markdown",
   "id": "eca17cd1",
   "metadata": {},
   "source": [
    "## Stratified Random Sampling & Estimation of Population Parameters"
   ]
  },
  {
   "cell_type": "code",
   "execution_count": 4,
   "id": "f997ddba",
   "metadata": {},
   "outputs": [],
   "source": [
    "import numpy as np \n",
    "import pandas as pd\n"
   ]
  },
  {
   "cell_type": "markdown",
   "id": "4beb29c9",
   "metadata": {},
   "source": [
    "**Q1** consider a population with N=250 and four strata with sizes ($ N_1,N_2,N_3,N_4 $)=(50,30,100,70). Draw stratified random sample of size n=25 with respective sample sizes for four strata as (($ n_1,n_2,n_3,n_4 $)=(5,3,12,5)"
   ]
  },
  {
   "cell_type": "markdown",
   "id": "8abc7c2c",
   "metadata": {},
   "source": [
    "Given"
   ]
  },
  {
   "cell_type": "code",
   "execution_count": 5,
   "id": "0497178a",
   "metadata": {},
   "outputs": [],
   "source": [
    "N=250\n",
    "n=25\n",
    "𝑛1,𝑛2,𝑛3,𝑛4=np.array([5,3,12,5])\n",
    "𝑁1,𝑁2,𝑁3,𝑁4=np.array([50,30,100,70])\n"
   ]
  },
  {
   "cell_type": "code",
   "execution_count": 6,
   "id": "c8336cff",
   "metadata": {},
   "outputs": [],
   "source": [
    "strata_1=np.random.choice(range(1,50),n1,replace=True)\n",
    "strata_2=np.random.choice(range(51,80),n2,replace=True)\n",
    "strata_3=np.random.choice(range(81,180),n3,replace=True)\n",
    "strata_4=np.random.choice(range(181,250),n4,replace=True)\n"
   ]
  },
  {
   "cell_type": "code",
   "execution_count": 7,
   "id": "2703bc45",
   "metadata": {},
   "outputs": [
    {
     "name": "stdout",
     "output_type": "stream",
     "text": [
      "sample: [ 3 27 30 14 19] [74 66 67] [177 136 114 162 177  95 156 159 137 128 125 101] [214 239 201 194 190]\n"
     ]
    }
   ],
   "source": [
    "print('sample:',strata_1,strata_2,strata_3,strata_4)"
   ]
  },
  {
   "cell_type": "markdown",
   "id": "2d34fd37",
   "metadata": {},
   "source": [
    "**Q2** From a population with N=5000 and 3 strata with sizes $ N_1=1000, N_2=1500, N_3=2500.$ In the following table sample y-values are given \n",
    "  | | Stratum   | $ N_h  $  | $ n_h  $   | sample y-values                                                          |\n",
    "|:---|:-------------|:-----------|:------|--------------------------------------------------------------------------:|\n",
    "| 1 |  1 | 1000       | 10   |  5, 4, 1, 2, 4, 3, 7, 5, 0, 3|\n",
    "| 2 |  2 | 1500   | 15  | 11, 9, 13, 9, 4, 5, 5, 14, 8, 9, 11, 7, 10, 14, 7|\n",
    "| 3 | 3 | 2000    | 20   | 22, 16, 18, 18, 23, 20, 20, 19, 20,16, 21, 20, 26, 20, 26, 18, 21, 17, 22, 21|\n",
    "\n",
    "Estimate (i) population mean (ii) S.E. of your estimate of population mean by using this \n",
    "sample."
   ]
  },
  {
   "cell_type": "code",
   "execution_count": 8,
   "id": "a0afdcb5",
   "metadata": {},
   "outputs": [],
   "source": [
    "nh=np.array([10,15,20])\n",
    "Nh=np.array([1000,1500,2500])\n",
    "s1=np.array([5,4,1,2,4,3,7,5,0,3])\n",
    "s2=np.array([11,9,13,9,4,5,5,14,8,9,11,7,10,14,7])\n",
    "s3=np.array([22,16,18,18,23,20,20,19,20,19,20,16,21,20,26,20,26,18,21,17,22,21])"
   ]
  },
  {
   "cell_type": "code",
   "execution_count": 9,
   "id": "00cab288",
   "metadata": {},
   "outputs": [],
   "source": [
    "ybar_h=np.array([np.mean(s1),np.mean(s2),np.mean(s3)])\n",
    "sh2=np.array([np.var(s1),np.var(s2),np.var(s3)])\n",
    "wh=np.array([Nh/sum(Nh)])"
   ]
  },
  {
   "cell_type": "code",
   "execution_count": 12,
   "id": "54cd1867",
   "metadata": {},
   "outputs": [],
   "source": [
    "ybar_st=np.sum(wh*ybar_h)\n",
    "ybar_var_st=np.sum((1/nh-1/Nh)*wh**2*sh2**2)\n",
    "se_ybar=np.sqrt(ybar_var_st)"
   ]
  },
  {
   "cell_type": "code",
   "execution_count": 14,
   "id": "67bb197a",
   "metadata": {},
   "outputs": [
    {
     "name": "stdout",
     "output_type": "stream",
     "text": [
      "Estimate population mean: 13.468181818181819\n",
      "variance of your estimate of population mean. 1.1332967018218247\n",
      "Standard error of your estimate of population mean. 1.0645640900489857\n"
     ]
    }
   ],
   "source": [
    "print(\"Estimate population mean:\",ybar_st)\n",
    "print(\"variance of your estimate of population mean.\",ybar_var_st)\n",
    "print(\"Standard error of your estimate of population mean.\",se_ybar)"
   ]
  },
  {
   "cell_type": "code",
   "execution_count": null,
   "id": "1c410fd6",
   "metadata": {},
   "outputs": [],
   "source": []
  }
 ],
 "metadata": {
  "kernelspec": {
   "display_name": "Python 3 (ipykernel)",
   "language": "python",
   "name": "python3"
  },
  "language_info": {
   "codemirror_mode": {
    "name": "ipython",
    "version": 3
   },
   "file_extension": ".py",
   "mimetype": "text/x-python",
   "name": "python",
   "nbconvert_exporter": "python",
   "pygments_lexer": "ipython3",
   "version": "3.10.10"
  }
 },
 "nbformat": 4,
 "nbformat_minor": 5
}
