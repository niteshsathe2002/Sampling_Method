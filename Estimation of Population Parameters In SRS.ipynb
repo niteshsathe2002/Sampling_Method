{
 "cells": [
  {
   "cell_type": "code",
   "execution_count": 1,
   "id": "28104f56",
   "metadata": {},
   "outputs": [],
   "source": [
    "import numpy as np\n",
    "import pandas as pd\n",
    "import scipy.stats as ss"
   ]
  },
  {
   "cell_type": "markdown",
   "id": "097e14b9",
   "metadata": {},
   "source": [
    "**Q1** The following data gives the geographical area (in acres) under paddy for 58 villages. Draw sample of **eight** villages by using SRSWOR. Based on sample drawn find the estimate of ‘average area per village under paddy’ and estimate of its variance and 95% confidence interval for ‘average area per village under paddy’.98, 19, 47, 137, 155, 270, 64, 69, 127, 292, 79, 81, 144, 104, 240, 273, 141, 56, 117, 201, 130, 58, 102, 170, 261, 158, 29, 102, 210, 189, 116, 46, 187, 101, 194, 93, 161, 222, 41, 127, 179, 223, 33, 114, 76, 96, 78, 88, 137, 114, 56, 108, 179, 318, 58, 58, 76, 272\n"
   ]
  },
  {
   "cell_type": "code",
   "execution_count": 27,
   "id": "cd3d4f9b",
   "metadata": {},
   "outputs": [],
   "source": [
    "data=np.array([98,19,47,137,155,270,64,69,127,292,79,81,144,104,240,273,141,56,117,201,130,58,102,170,261,158,29,102,210,189,116,46,187,101,194,93,161,222,41,127,179,223,33,114,76,96,78,88,137,114,56,108,179,318,58,58,76,272])"
   ]
  },
  {
   "cell_type": "markdown",
   "id": "d46d657c",
   "metadata": {},
   "source": [
    "#### Sample and Estimated Averge"
   ]
  },
  {
   "cell_type": "code",
   "execution_count": 40,
   "id": "a01b6c82",
   "metadata": {},
   "outputs": [
    {
     "name": "stdout",
     "output_type": "stream",
     "text": [
      "estimated averge area per village= 202.625\n"
     ]
    }
   ],
   "source": [
    "N=58\n",
    "n=8\n",
    "sample=np.random.choice(data,n,replace=False)\n",
    "print(\"estimated averge area per village=\",np.mean(sample))"
   ]
  },
  {
   "cell_type": "markdown",
   "id": "144350e1",
   "metadata": {},
   "source": [
    "#### Confidence Interval"
   ]
  },
  {
   "cell_type": "code",
   "execution_count": 56,
   "id": "9be99e77",
   "metadata": {},
   "outputs": [],
   "source": [
    "sample_mean=np.mean(sample)\n",
    "est_var=(1/n-1/N)*np.var(data,ddof=1)\n",
    "est_sd=np.sqrt(est_var)\n",
    "z_alpha=ss.norm.ppf(1-0.05/2)\n",
    "ul=sample_mean+z_alpha*est_sd\n",
    "ll=sample_mean-z_alpha*est_sd"
   ]
  },
  {
   "cell_type": "code",
   "execution_count": 60,
   "id": "372c0a19",
   "metadata": {},
   "outputs": [
    {
     "name": "stdout",
     "output_type": "stream",
     "text": [
      "confidence Interval= (155.09962668028606, 250.15037331971394)\n"
     ]
    }
   ],
   "source": [
    "print(\"confidence Interval=\",(ll,ul))"
   ]
  },
  {
   "cell_type": "markdown",
   "id": "bc1387d4",
   "metadata": {},
   "source": [
    "#### confidence Interval using scipy.stats package (Direct)"
   ]
  },
  {
   "cell_type": "code",
   "execution_count": 59,
   "id": "b9deb3d2",
   "metadata": {
    "scrolled": true
   },
   "outputs": [
    {
     "name": "stderr",
     "output_type": "stream",
     "text": [
      "C:\\Users\\HP\\AppData\\Local\\Temp\\ipykernel_19864\\1898471706.py:1: DeprecationWarning: Use of keyword argument 'alpha' for method 'interval' is deprecated and wil be removed in SciPy 1.11.0. Use first positional argument or keyword argument 'confidence' instead.\n",
      "  ss.norm.interval(alpha=0.95,loc=np.mean(sample),scale=est_sd)\n"
     ]
    },
    {
     "data": {
      "text/plain": [
       "(155.09962668028606, 250.15037331971394)"
      ]
     },
     "execution_count": 59,
     "metadata": {},
     "output_type": "execute_result"
    }
   ],
   "source": [
    "ss.norm.interval(alpha=0.95,loc=np.mean(sample),scale=est_sd)\n"
   ]
  },
  {
   "cell_type": "markdown",
   "id": "7162ec1f",
   "metadata": {},
   "source": [
    "**Q2** The following are the monthly expenditures of 25 households selected randomly by using SRSWOR from a village having N = 400 households.1698, 1889, 1910, 1768, 1852, 1837, 1811, 1762, 1722, 1851, 1717, 1715,1791, 1908, 1801, 1800, 1893, 1771, 1709, 1772, 1667, 1690, 1811, 1816, 1731. Obtain an unbiased estimate of monthly average expenditure per household in the village.Also, provide an estimate of 98% C.I. for the monthly average expenditure per household"
   ]
  },
  {
   "cell_type": "code",
   "execution_count": 93,
   "id": "42b84793",
   "metadata": {},
   "outputs": [],
   "source": [
    "N=400\n",
    "n=25\n",
    "sample=np.array([1698,1889,1910,1768,1852,1837,1811,1762,1722,1851,1717,1715,1791,1908,1801,1800,1893,1771,1709,1772,1667,1690,1811,1816,1731])"
   ]
  },
  {
   "cell_type": "code",
   "execution_count": 94,
   "id": "0fb6812e",
   "metadata": {},
   "outputs": [
    {
     "name": "stdout",
     "output_type": "stream",
     "text": [
      "The unbiased estimate of monthly average expenditure per household in the village= 1787.68\n"
     ]
    }
   ],
   "source": [
    "print(\"The unbiased estimate of monthly average expenditure per household in the village=\",np.mean(sample))"
   ]
  },
  {
   "cell_type": "code",
   "execution_count": 101,
   "id": "afc6c499",
   "metadata": {},
   "outputs": [
    {
     "name": "stdout",
     "output_type": "stream",
     "text": [
      "confidence Interval= (1753.367604363882, 1821.992395636118)\n"
     ]
    }
   ],
   "source": [
    "est_sample_mean=np.mean(sample)\n",
    "est_sample_var=(1/n-1/N)*np.var(sample,ddof=1)\n",
    "est_sample_std=np.sqrt(est_sample_var)\n",
    "t_aplha=ss.t.ppf(1-0.01,n-1)\n",
    "ll=est_sample_mean-t_aplha*est_sample_std\n",
    "ul=est_sample_mean+t_aplha*est_sample_std\n",
    "print(\"confidence Interval=\",(ll,ul))\n",
    "\n"
   ]
  },
  {
   "cell_type": "code",
   "execution_count": 96,
   "id": "24f66a18",
   "metadata": {},
   "outputs": [
    {
     "name": "stderr",
     "output_type": "stream",
     "text": [
      "C:\\Users\\HP\\AppData\\Local\\Temp\\ipykernel_19864\\1671295274.py:1: DeprecationWarning: Use of keyword argument 'alpha' for method 'interval' is deprecated and wil be removed in SciPy 1.11.0. Use first positional argument or keyword argument 'confidence' instead.\n",
      "  ss.t.interval(alpha=0.98,df=n-1,loc=est_sample_mean,scale=est_sample_std)\n"
     ]
    },
    {
     "data": {
      "text/plain": [
       "(1753.367604363882, 1821.992395636118)"
      ]
     },
     "execution_count": 96,
     "metadata": {},
     "output_type": "execute_result"
    }
   ],
   "source": [
    "ss.t.interval(alpha=0.98,df=n-1,loc=est_sample_mean,scale=est_sample_std)"
   ]
  },
  {
   "cell_type": "markdown",
   "id": "97af9ced",
   "metadata": {},
   "source": [
    "**Q3** A SRS of30 household was drawn from a city area containinf 14,848 households the number of person per household in sample was as follows 5,6,3,3,2,3,3,4,4,3,2,7,4,3,5,4,4,3,3,4,3,3,1,2,4,3,4,2,4\n",
    "Estimate total number of people  in the area."
   ]
  },
  {
   "cell_type": "code",
   "execution_count": 9,
   "id": "4466756b",
   "metadata": {},
   "outputs": [],
   "source": [
    "data=np.array([5,6,3,3,2,3,3,3,4,4,3,2,7,4,3,5,4,4,3,3,4,3,3,1,2,4,3,4,2,4])\n",
    "N=14848\n",
    "n=np.size(data)"
   ]
  },
  {
   "cell_type": "code",
   "execution_count": 10,
   "id": "4831508e",
   "metadata": {},
   "outputs": [
    {
     "name": "stdout",
     "output_type": "stream",
     "text": [
      "Estimated total number of people  in the area= 51473.066666666666\n"
     ]
    }
   ],
   "source": [
    "sample_mean=np.mean(data)\n",
    "print(\"Estimated total number of people  in the area=\",N*sample_mean)"
   ]
  },
  {
   "cell_type": "code",
   "execution_count": null,
   "id": "515072d0",
   "metadata": {},
   "outputs": [],
   "source": []
  }
 ],
 "metadata": {
  "kernelspec": {
   "display_name": "Python 3 (ipykernel)",
   "language": "python",
   "name": "python3"
  },
  "language_info": {
   "codemirror_mode": {
    "name": "ipython",
    "version": 3
   },
   "file_extension": ".py",
   "mimetype": "text/x-python",
   "name": "python",
   "nbconvert_exporter": "python",
   "pygments_lexer": "ipython3",
   "version": "3.10.10"
  }
 },
 "nbformat": 4,
 "nbformat_minor": 5
}
